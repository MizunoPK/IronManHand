{
 "cells": [
  {
   "cell_type": "markdown",
   "metadata": {},
   "source": [
    "Set up all the modules we need"
   ]
  },
  {
   "cell_type": "code",
   "execution_count": null,
   "metadata": {},
   "outputs": [],
   "source": [
    "import RPi.GPIO as GPIO\n",
    "import time\n",
    "import pigpio\n",
    "import numpy as np"
   ]
  },
  {
   "cell_type": "markdown",
   "metadata": {},
   "source": [
    "Making the numpy file for the shot"
   ]
  },
  {
   "cell_type": "code",
   "execution_count": null,
   "metadata": {},
   "outputs": [],
   "source": [
    "import noteDict as n\n",
    "\n",
    "beatsPerMinute = 170\n",
    "secondsPerBeat = 1/beatsPerMinute * 60\n",
    "\n",
    "shotFired = np.array([[ n.midOctave[\"A\"], secondsPerBeat * 0.5 ]], dtype='float')"
   ]
  },
  {
   "cell_type": "markdown",
   "metadata": {},
   "source": [
    "Make a function for playing a sound file"
   ]
  },
  {
   "cell_type": "code",
   "execution_count": null,
   "metadata": {},
   "outputs": [],
   "source": [
    "def playSong(songFile, buzPin, ledList):\n",
    "\n",
    "    # load in information from the song file\n",
    "    song = np.load(songFile).copy()\n",
    "    # isolate the frequencies in the sound file for some calulations\n",
    "    num_rows, numCols = song.shape                              # get the columns and rows\n",
    "    frequencyList = song.copy()                                 # make a copy we can resize\n",
    "    frequencyList = frequencyList.compress([True,False],axis=1) # resize the array so we only have the frequencies\n",
    "    frequencyList = frequencyList.flatten()                     # flatten the array into 1D\n",
    "    frequencyList = frequencyList[frequencyList!=0]             # remove all 0s, which would always be the minimum\n",
    "    # find the minimum frequency\n",
    "    minFreq = np.min(frequencyList)\n",
    "    # find the maximum frequency\n",
    "    maxFreq = np.max(frequencyList)\n",
    "\n",
    "    # to get a noticible difference between different levels of dimming the LED, use the max and min frequencies to find a slope\n",
    "    # value ( max change in duty cycle / max change in frequencies ), this lets us plug in the current frequency and find the adaquate\n",
    "    # duty cycle value\n",
    "    slope = 255 / (maxFreq-minFreq)\n",
    "    minDuty = slope * minFreq\n",
    "\n",
    "    # initialize the led to be off with a frequency of 100 so it doesn't blink when it turns on\n",
    "    for ledPin in ledList:\n",
    "        pi.set_PWM_frequency(ledPin,100)\n",
    "        pi.set_PWM_dutycycle(ledPin,0)\n",
    "\n",
    "    #loop through every note in the song\n",
    "    for note in song:\n",
    "        pi.hardware_PWM(buzPin, int(note[0]), int(0.25e6))  # set the buzzer PWM\n",
    "        for ledPin in ledList:\n",
    "            if ( note[0] == 0 ):\n",
    "                pi.set_PWM_dutycycle(ledPin,0)                             # if it's a rest, don't use the slope equation otherwise it will create an error\n",
    "            else:                                               \n",
    "                pi.set_PWM_dutycycle(ledPin,slope*note[0] - minDuty)    # set the LED duty cycle based off the slope and frequency\n",
    "        time.sleep(note[1])                                     # sleep for the duration of the note\n",
    "        pi.hardware_PWM(buzPin, 0, 0)                           # reset the buzzer\n",
    "    for ledPin in ledList:\n",
    "        pi.set_PWM_dutycycle(ledPin,0)\n",
    "    "
   ]
  },
  {
   "cell_type": "markdown",
   "metadata": {},
   "source": [
    "Do any GPIO setup we'll need"
   ]
  },
  {
   "cell_type": "code",
   "execution_count": null,
   "metadata": {},
   "outputs": [],
   "source": [
    "GPIO.setmode(GPIO.BCM)\n",
    "\n",
    "buzPin = 18\n",
    "buttonPin = 17\n",
    "ledList = [19, 20, 21, 22, 23, 24]\n",
    "\n",
    "GPIO.setup(buzPin, GPIO.OUT)\n",
    "GPIO.setup(buttonPin, GPIO.IN, pull_up_down = GPIO.PUD_DOWN)\n",
    "for led in ledList:\n",
    "    GPIO.setup(led, GPIO.OUT)"
   ]
  },
  {
   "cell_type": "markdown",
   "metadata": {},
   "source": [
    "Establish the pigpio port"
   ]
  },
  {
   "cell_type": "code",
   "execution_count": null,
   "metadata": {},
   "outputs": [],
   "source": [
    "pi = pigpio.pi(port = 8887)"
   ]
  },
  {
   "cell_type": "markdown",
   "metadata": {},
   "source": [
    "When we start things up, play the Iron Man Theme"
   ]
  },
  {
   "cell_type": "code",
   "execution_count": null,
   "metadata": {},
   "outputs": [],
   "source": [
    "playSong('Can_You_Dig_It.npy', buzPin, ledList)"
   ]
  },
  {
   "cell_type": "markdown",
   "metadata": {},
   "source": [
    "Need to be waiting for a button press. Once the button is pressed, fire a shot.\n",
    "The numpy file will contain the information for the sound of the shot, and the leds will shine in accordance to the frequencies being played"
   ]
  },
  {
   "cell_type": "code",
   "execution_count": null,
   "metadata": {},
   "outputs": [],
   "source": [
    "try:\n",
    "    while(True):\n",
    "        if GPIO.input(buttonPin) == 1:\n",
    "            playSong('fireShot.npy', buzPin, ledList)\n",
    "                \n",
    "except(KeyboardInterrupt, SystemExit):\n",
    "    print(\"Interupt!\")"
   ]
  },
  {
   "cell_type": "code",
   "execution_count": null,
   "metadata": {},
   "outputs": [],
   "source": []
  },
  {
   "cell_type": "markdown",
   "metadata": {},
   "source": [
    "Stop the pigpio port and GPIO"
   ]
  },
  {
   "cell_type": "code",
   "execution_count": null,
   "metadata": {},
   "outputs": [],
   "source": [
    "pi.stop()\n",
    "GPIO.cleanup()"
   ]
  }
 ],
 "metadata": {
  "kernelspec": {
   "display_name": "Python 3",
   "language": "python",
   "name": "python3"
  },
  "language_info": {
   "codemirror_mode": {
    "name": "ipython",
    "version": 3
   },
   "file_extension": ".py",
   "mimetype": "text/x-python",
   "name": "python",
   "nbconvert_exporter": "python",
   "pygments_lexer": "ipython3",
   "version": "3.7.3"
  }
 },
 "nbformat": 4,
 "nbformat_minor": 2
}
