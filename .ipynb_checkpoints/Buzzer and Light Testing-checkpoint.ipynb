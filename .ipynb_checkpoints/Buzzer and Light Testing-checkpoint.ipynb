{
 "cells": [
  {
   "cell_type": "markdown",
   "metadata": {},
   "source": [
    "Set up all the modules we need"
   ]
  },
  {
   "cell_type": "code",
   "execution_count": 2,
   "metadata": {},
   "outputs": [],
   "source": [
    "import RPi.GPIO as GPIO\n",
    "import time\n",
    "import pigpio\n",
    "import numpy as np"
   ]
  },
  {
   "cell_type": "markdown",
   "metadata": {},
   "source": [
    "Making the numpy file for the shot"
   ]
  },
  {
   "cell_type": "code",
   "execution_count": 2,
   "metadata": {},
   "outputs": [],
   "source": [
    "import noteDict as n\n",
    "\n",
    "beatsPerMinute = 170\n",
    "secondsPerBeat = 1/beatsPerMinute * 60\n",
    "\n",
    "shotFired = np.array([[ n.midOctave[\"A\"], secondsPerBeat * 0.5 ]], dtype='float')"
   ]
  },
  {
   "cell_type": "markdown",
   "metadata": {},
   "source": [
    "Remaking IronManTheme here"
   ]
  },
  {
   "cell_type": "code",
   "execution_count": 3,
   "metadata": {},
   "outputs": [],
   "source": [
    "# Making a numpy array for the song: Can You Dig It from Iron Man 3\n",
    "# I made a seperate python file I import here that has 3 dictionaries, with notes and their corresponding frequencies for 3 octaves\n",
    "import noteDict as n\n",
    "\n",
    "beatsPerMinute = 200\n",
    "secondsPerBeat = 1/beatsPerMinute * 60\n",
    "\n",
    "Can_You_Dig_It = np.array([[ n.midOctave[\"A\"], secondsPerBeat * 0.5 ]], dtype='float')\n",
    "Can_You_Dig_It = np.append(Can_You_Dig_It, [[ n.midOctave[\"A\"], secondsPerBeat * 0.5 ]], axis=0)\n",
    "Can_You_Dig_It = np.append(Can_You_Dig_It, [[ n.midOctave[\"B\"], secondsPerBeat * 0.5 ]], axis=0) \n",
    "Can_You_Dig_It = np.append(Can_You_Dig_It, [[ n.midOctave[\"B\"], secondsPerBeat * 0.5 ]], axis=0)\n",
    "Can_You_Dig_It = np.append(Can_You_Dig_It, [[ n.highOctave[\"D\"], secondsPerBeat * 0.5 ]], axis=0)\n",
    "Can_You_Dig_It = np.append(Can_You_Dig_It, [[ n.highOctave[\"D\"], secondsPerBeat * 0.5 ]], axis=0)\n",
    "Can_You_Dig_It = np.append(Can_You_Dig_It, [[ n.highOctave[\"D#\"], secondsPerBeat * 0.5 ]], axis=0)\n",
    "Can_You_Dig_It = np.append(Can_You_Dig_It, [[ n.highOctave[\"D#\"], secondsPerBeat * 0.5 ]], axis=0)\n",
    "Can_You_Dig_It = np.append(Can_You_Dig_It, [[ n.highOctave[\"E\"], secondsPerBeat * 1 ]], axis=0)\n",
    "Can_You_Dig_It = np.append(Can_You_Dig_It, [[ n.midOctave[\"E\"], secondsPerBeat * 0.5 ]], axis=0)\n",
    "Can_You_Dig_It = np.append(Can_You_Dig_It, [[ n.midOctave[\"F#\"], secondsPerBeat * 0.5 ]], axis=0)\n",
    "Can_You_Dig_It = np.append(Can_You_Dig_It, [[ n.midOctave[\"G\"], secondsPerBeat * 1 ]], axis=0)\n",
    "Can_You_Dig_It = np.append(Can_You_Dig_It, [[ n.midOctave[\"E\"], secondsPerBeat * 1 ]], axis=0)\n",
    "Can_You_Dig_It = np.append(Can_You_Dig_It, [[ n.highOctave[\"C\"], secondsPerBeat * 2 ]], axis=0)\n",
    "Can_You_Dig_It = np.append(Can_You_Dig_It, [[ n.midOctave[\"G\"], secondsPerBeat * 2 ]], axis=0)\n",
    "Can_You_Dig_It = np.append(Can_You_Dig_It, [[ n.midOctave[\"A\"], secondsPerBeat * 0.5 ]], axis=0)\n",
    "Can_You_Dig_It = np.append(Can_You_Dig_It, [[ n.midOctave[\"E\"], secondsPerBeat * 0.5 ]], axis=0)\n",
    "Can_You_Dig_It = np.append(Can_You_Dig_It, [[ n.midOctave[\"A\"], secondsPerBeat * 6.75 ]], axis=0)\n",
    "Can_You_Dig_It = np.append(Can_You_Dig_It, [[ 0, secondsPerBeat * 0.25 ]], axis=0)\n",
    "Can_You_Dig_It = np.append(Can_You_Dig_It, [[ n.midOctave[\"E\"], secondsPerBeat * 0.5]], axis=0)\n",
    "Can_You_Dig_It = np.append(Can_You_Dig_It, [[ n.midOctave[\"F#\"], secondsPerBeat * 0.5]], axis=0)\n",
    "Can_You_Dig_It = np.append(Can_You_Dig_It, [[ n.midOctave[\"G\"], secondsPerBeat * 1]], axis=0)\n",
    "Can_You_Dig_It = np.append(Can_You_Dig_It, [[ n.midOctave[\"E\"], secondsPerBeat * 1]], axis=0)\n",
    "Can_You_Dig_It = np.append(Can_You_Dig_It, [[ n.highOctave[\"C\"], secondsPerBeat * 2]], axis=0)\n",
    "Can_You_Dig_It = np.append(Can_You_Dig_It, [[ n.midOctave[\"B\"], secondsPerBeat * 2]], axis=0)\n",
    "Can_You_Dig_It = np.append(Can_You_Dig_It, [[ n.highOctave[\"C#\"], secondsPerBeat * 0.5]], axis=0)\n",
    "Can_You_Dig_It = np.append(Can_You_Dig_It, [[ n.highOctave[\"D\"], secondsPerBeat * 0.5]], axis=0)\n",
    "Can_You_Dig_It = np.append(Can_You_Dig_It, [[ n.highOctave[\"E\"], secondsPerBeat * 6.75]], axis=0)\n",
    "Can_You_Dig_It = np.append(Can_You_Dig_It, [[ 0, secondsPerBeat * 0.25 ]], axis=0)\n",
    "Can_You_Dig_It = np.append(Can_You_Dig_It, [[ n.midOctave[\"E\"], secondsPerBeat * 0.5]], axis=0)\n",
    "Can_You_Dig_It = np.append(Can_You_Dig_It, [[ n.midOctave[\"F#\"], secondsPerBeat * 0.5]], axis=0)\n",
    "Can_You_Dig_It = np.append(Can_You_Dig_It, [[ n.midOctave[\"G\"], secondsPerBeat * 1]], axis=0)\n",
    "Can_You_Dig_It = np.append(Can_You_Dig_It, [[ n.midOctave[\"E\"], secondsPerBeat * 1]], axis=0)\n",
    "Can_You_Dig_It = np.append(Can_You_Dig_It, [[ 0, secondsPerBeat * 1 ]], axis=0)\n",
    "Can_You_Dig_It = np.append(Can_You_Dig_It, [[ n.midOctave[\"G\"], secondsPerBeat * 0.5]], axis=0)\n",
    "Can_You_Dig_It = np.append(Can_You_Dig_It, [[ n.midOctave[\"A\"], secondsPerBeat * 0.5]], axis=0)\n",
    "Can_You_Dig_It = np.append(Can_You_Dig_It, [[ n.midOctave[\"B\"], secondsPerBeat * 1]], axis=0)\n",
    "Can_You_Dig_It = np.append(Can_You_Dig_It, [[ n.midOctave[\"G\"], secondsPerBeat * 1]], axis=0)\n",
    "Can_You_Dig_It = np.append(Can_You_Dig_It, [[ 0, secondsPerBeat * 1 ]], axis=0)\n",
    "Can_You_Dig_It = np.append(Can_You_Dig_It, [[ n.midOctave[\"F#\"], secondsPerBeat * 0.5]], axis=0)\n",
    "Can_You_Dig_It = np.append(Can_You_Dig_It, [[ n.midOctave[\"G\"], secondsPerBeat * 0.5]], axis=0)\n",
    "Can_You_Dig_It = np.append(Can_You_Dig_It, [[ n.midOctave[\"A\"], secondsPerBeat * 1]], axis=0)\n",
    "Can_You_Dig_It = np.append(Can_You_Dig_It, [[ n.midOctave[\"F#\"], secondsPerBeat * 1]], axis=0)\n",
    "Can_You_Dig_It = np.append(Can_You_Dig_It, [[ n.midOctave[\"G\"], secondsPerBeat * 3.5]], axis=0)\n",
    "Can_You_Dig_It = np.append(Can_You_Dig_It, [[ 0, secondsPerBeat * 0.5 ]], axis=0)\n",
    "Can_You_Dig_It = np.append(Can_You_Dig_It, [[ n.highOctave[\"E\"], 2/3*secondsPerBeat * 1]], axis=0)\n",
    "Can_You_Dig_It = np.append(Can_You_Dig_It, [[ n.highOctave[\"F#\"], 2/3*secondsPerBeat * 1]], axis=0)\n",
    "Can_You_Dig_It = np.append(Can_You_Dig_It, [[ n.highOctave[\"G\"], 2/3*secondsPerBeat * 1]], axis=0)\n",
    "Can_You_Dig_It = np.append(Can_You_Dig_It, [[ n.highOctave[\"F#\"], secondsPerBeat * 2]], axis=0)\n",
    "Can_You_Dig_It = np.append(Can_You_Dig_It, [[ n.highOctave[\"A\"], secondsPerBeat * 2]], axis=0)\n",
    "Can_You_Dig_It = np.append(Can_You_Dig_It, [[ n.highOctave[\"G\"], secondsPerBeat * 0.5]], axis=0)\n",
    "Can_You_Dig_It = np.append(Can_You_Dig_It, [[ n.highOctave[\"F#\"], secondsPerBeat * 0.5]], axis=0)\n",
    "Can_You_Dig_It = np.append(Can_You_Dig_It, [[ n.highOctave[\"F#\"], secondsPerBeat * 0.5]], axis=0)\n",
    "Can_You_Dig_It = np.append(Can_You_Dig_It, [[ n.highOctave[\"F#\"], secondsPerBeat * 0.5]], axis=0)\n",
    "Can_You_Dig_It = np.append(Can_You_Dig_It, [[ n.highOctave[\"G\"], secondsPerBeat * 0.5]], axis=0)\n",
    "Can_You_Dig_It = np.append(Can_You_Dig_It, [[ n.highOctave[\"F#\"], secondsPerBeat * 0.5]], axis=0)\n",
    "Can_You_Dig_It = np.append(Can_You_Dig_It, [[ n.highOctave[\"F#\"], secondsPerBeat * 0.5]], axis=0)\n",
    "Can_You_Dig_It = np.append(Can_You_Dig_It, [[ n.highOctave[\"F#\"], secondsPerBeat * 0.5]], axis=0)\n",
    "Can_You_Dig_It = np.append(Can_You_Dig_It, [[ n.highOctave[\"G\"], secondsPerBeat * 0.5]], axis=0)\n",
    "Can_You_Dig_It = np.append(Can_You_Dig_It, [[ n.highOctave[\"F#\"], secondsPerBeat * 0.5]], axis=0)\n",
    "Can_You_Dig_It = np.append(Can_You_Dig_It, [[ n.highOctave[\"F#\"], secondsPerBeat * 0.5]], axis=0)\n",
    "Can_You_Dig_It = np.append(Can_You_Dig_It, [[ n.highOctave[\"F#\"], secondsPerBeat * 0.5]], axis=0)\n",
    "Can_You_Dig_It = np.append(Can_You_Dig_It, [[ n.highOctave[\"G\"], secondsPerBeat * 0.5]], axis=0)\n",
    "Can_You_Dig_It = np.append(Can_You_Dig_It, [[ n.highOctave[\"F#\"], secondsPerBeat * 0.5]], axis=0)\n",
    "Can_You_Dig_It = np.append(Can_You_Dig_It, [[ n.highOctave[\"F#\"], secondsPerBeat * 0.5]], axis=0)\n",
    "Can_You_Dig_It = np.append(Can_You_Dig_It, [[ n.highOctave[\"F#\"], secondsPerBeat * 0.5]], axis=0)\n",
    "Can_You_Dig_It = np.append(Can_You_Dig_It, [[ n.midOctave[\"B\"], secondsPerBeat * 0.5]], axis=0)\n",
    "Can_You_Dig_It = np.append(Can_You_Dig_It, [[ n.midOctave[\"B\"], secondsPerBeat * 0.5]], axis=0)\n",
    "Can_You_Dig_It = np.append(Can_You_Dig_It, [[ n.midOctave[\"B\"], secondsPerBeat * 1]], axis=0)\n",
    "Can_You_Dig_It = np.append(Can_You_Dig_It, [[ 0, secondsPerBeat * 0.5 ]], axis=0)\n",
    "Can_You_Dig_It = np.append(Can_You_Dig_It, [[ n.midOctave[\"B\"], secondsPerBeat * 1]], axis=0)\n",
    "Can_You_Dig_It = np.append(Can_You_Dig_It, [[ n.highOctave[\"C\"], secondsPerBeat * 0.5]], axis=0)\n",
    "Can_You_Dig_It = np.append(Can_You_Dig_It, [[ n.highOctave[\"C\"], secondsPerBeat * 0.5]], axis=0)\n",
    "Can_You_Dig_It = np.append(Can_You_Dig_It, [[ n.highOctave[\"C\"], secondsPerBeat * 1]], axis=0)\n",
    "Can_You_Dig_It = np.append(Can_You_Dig_It, [[ 0, secondsPerBeat * 0.5 ]], axis=0)\n",
    "Can_You_Dig_It = np.append(Can_You_Dig_It, [[ n.highOctave[\"C\"], secondsPerBeat * 1]], axis=0)\n",
    "Can_You_Dig_It = np.append(Can_You_Dig_It, [[ n.highOctave[\"C#\"], secondsPerBeat * 1]], axis=0)\n",
    "Can_You_Dig_It = np.append(Can_You_Dig_It, [[ n.highOctave[\"D\"], secondsPerBeat * 1]], axis=0)\n",
    "Can_You_Dig_It = np.append(Can_You_Dig_It, [[ n.highOctave[\"E\"], secondsPerBeat * 6]], axis=0)\n",
    "Can_You_Dig_It = np.append(Can_You_Dig_It, [[ 0, secondsPerBeat * 0.5 ]], axis=0)\n",
    "\n",
    "np.save('Can_You_Dig_It.npy', Can_You_Dig_It)"
   ]
  },
  {
   "cell_type": "markdown",
   "metadata": {},
   "source": [
    "Make a function for playing a sound file"
   ]
  },
  {
   "cell_type": "code",
   "execution_count": 20,
   "metadata": {},
   "outputs": [],
   "source": [
    "def playSong(songFile1, songFile2, buzPin1, buzPin2, ledPin1, ledPin2):\n",
    "\n",
    "    # load in information from the song file\n",
    "    song1 = np.load(songFile1).copy()\n",
    "    # isolate the frequencies in the sound file for some calulations\n",
    "    num_rows, numCols = song1.shape                              # get the columns and rows\n",
    "    frequencyList = song1.copy()                                 # make a copy we can resize\n",
    "    frequencyList = frequencyList.compress([True,False],axis=1) # resize the array so we only have the frequencies\n",
    "    frequencyList = frequencyList.flatten()                     # flatten the array into 1D\n",
    "    frequencyList = frequencyList[frequencyList!=0]             # remove all 0s, which would always be the minimum\n",
    "    # find the minimum frequency\n",
    "    minFreq = np.min(frequencyList)\n",
    "    # find the maximum frequency\n",
    "    maxFreq = np.max(frequencyList)\n",
    "\n",
    "    # to get a noticible difference between different levels of dimming the LED, use the max and min frequencies to find a slope\n",
    "    # value ( max change in duty cycle / max change in frequencies ), this lets us plug in the current frequency and find the adaquate\n",
    "    # duty cycle value\n",
    "    if num_rows > 2:\n",
    "        slope1 = 255 / (maxFreq-minFreq)\n",
    "    else:\n",
    "        slope1 = 1\n",
    "    minDuty1 = slope1 * minFreq\n",
    "    \n",
    "    # load in information from the second song file\n",
    "    song2 = np.load(songFile2).copy()\n",
    "    # isolate the frequencies in the sound file for some calulations\n",
    "    num_rows, numCols = song2.shape                              # get the columns and rows\n",
    "    frequencyList = song2.copy()                                 # make a copy we can resize\n",
    "    frequencyList = frequencyList.compress([True,False],axis=1) # resize the array so we only have the frequencies\n",
    "    frequencyList = frequencyList.flatten()                     # flatten the array into 1D\n",
    "    frequencyList = frequencyList[frequencyList!=0]             # remove all 0s, which would always be the minimum\n",
    "    # find the minimum frequency\n",
    "    minFreq = np.min(frequencyList)\n",
    "    # find the maximum frequency\n",
    "    maxFreq = np.max(frequencyList)\n",
    "\n",
    "    # to get a noticible difference between different levels of dimming the LED, use the max and min frequencies to find a slope\n",
    "    # value ( max change in duty cycle / max change in frequencies ), this lets us plug in the current frequency and find the adaquate\n",
    "    # duty cycle value\n",
    "    if num_rows > 2:\n",
    "        slope2 = 255 / (maxFreq-minFreq)\n",
    "    else:\n",
    "        slope2 = 1\n",
    "    minDuty2 = slope2 * minFreq\n",
    "\n",
    "    # initialize the led to be off with a frequency of 100 so it doesn't blink when it turns on\n",
    "    pi.set_PWM_frequency(ledPin1,100)\n",
    "    pi.set_PWM_dutycycle(ledPin1,0)\n",
    "    pi.set_PWM_frequency(ledPin2,100)\n",
    "    pi.set_PWM_dutycycle(ledPin2,0)\n",
    "\n",
    "    #loop through every note in the songs\n",
    "    song1Length, x = song1.shape\n",
    "    song1NoteStart = 0\n",
    "    song1Index = -1\n",
    "    \n",
    "    song2Length, x = song2.shape\n",
    "    song2NoteStart = 0\n",
    "    song2Index = -1\n",
    "    while True:\n",
    "        if song1Index >= song1Length and song2Index >= song2Length:\n",
    "            break\n",
    "        \n",
    "        # check the first song\n",
    "        # get how long the current note has been playing\n",
    "        tdiff1 = time.time() - song1NoteStart\n",
    "        # if the current note has finished: start the next note if there is one\n",
    "        if song1Index == -1 or ( song1Index < song1Length and tdiff1 - song1[song1Index][1] > 0 ):\n",
    "            song1Index+=1\n",
    "            if song1Index < song1Length:\n",
    "                pi.hardware_PWM(buzPin1, int(song1[song1Index][0]), int(0.25e6))  # set the buzzer PWM\n",
    "                #pi.set_PWM_frequency(buzPin1, int(song1[song1Index][0]))\n",
    "                #pi.set_PWM_dutycycle(buzPin2, 128)\n",
    "                if song1[song1Index][0] == 0:\n",
    "                    pi.set_PWM_dutycycle(ledPin1,0)                             # if it's a rest, don't use the slope equation otherwise it will create an error\n",
    "                else:    \n",
    "                    pi.set_PWM_dutycycle(ledPin1,slope1*song1[song1Index][0] - minDuty1)    # set the LED duty cycle based off the slope and frequency\n",
    "                # reset the start time of the current note\n",
    "                song1NoteStart = time.time()\n",
    "        \n",
    "        #check the second song\n",
    "        #get how long the current note has been playing\n",
    "        tdiff2 = time.time() - song2NoteStart\n",
    "        # if the current note has finished: start the next note if there is one\n",
    "        if song2Index == -1 or ( song2Index < song2Length and tdiff2 - song2[song2Index][1] > 0 ):\n",
    "            song2Index+=1\n",
    "            if song2Index < song2Length:\n",
    "                pi.hardware_PWM(buzPin2, int(song2[song2Index][0]), int(0.25e6))  # set the buzzer PWM\n",
    "                #pi.set_PWM_frequency(buzPin2, int(song2[song2Index][0]))\n",
    "                #pi.set_PWM_dutycycle(buzPin2, 128)\n",
    "                if song2[song2Index][0] == 0:\n",
    "                    pi.set_PWM_dutycycle(ledPin2,0)                             # if it's a rest, don't use the slope equation otherwise it will create an error\n",
    "                else:                                               \n",
    "                    pi.set_PWM_dutycycle(ledPin2,slope2*song2[song2Index][0] - minDuty2)    # set the LED duty cycle based off the slope and frequency\n",
    "                #reset the start time of the current note\n",
    "                song2NoteStart = time.time()\n",
    "    \n",
    "    pi.hardware_PWM(buzPin1, 0, 0)\n",
    "    pi.hardware_PWM(buzPin2, 0, 0)\n",
    "    pi.set_PWM_dutycycle(ledPin1,0)\n",
    "    pi.set_PWM_dutycycle(ledPin2,0)"
   ]
  },
  {
   "cell_type": "code",
   "execution_count": 91,
   "metadata": {},
   "outputs": [
    {
     "data": {
      "text/plain": [
       "0"
      ]
     },
     "execution_count": 91,
     "metadata": {},
     "output_type": "execute_result"
    }
   ],
   "source": [
    "pi.hardware_PWM(buzPin1, 0, 0)\n",
    "pi.hardware_PWM(buzPin2, 0, 0)\n",
    "pi.set_PWM_dutycycle(buzPin1,0)\n",
    "pi.set_PWM_dutycycle(buzPin2,0)\n",
    "pi.set_PWM_dutycycle(ledPin1,0)\n",
    "pi.set_PWM_dutycycle(ledPin2,0)"
   ]
  },
  {
   "cell_type": "markdown",
   "metadata": {},
   "source": [
    "Do any GPIO setup we'll need"
   ]
  },
  {
   "cell_type": "code",
   "execution_count": 4,
   "metadata": {},
   "outputs": [],
   "source": [
    "GPIO.setmode(GPIO.BCM)\n",
    "\n",
    "buzPin1 = 18\n",
    "buzPin2 = 19\n",
    "ledPin1 = 12\n",
    "ledPin2 = 13\n",
    "buttonPin = 17\n",
    "\n",
    "GPIO.setup(buzPin1, GPIO.OUT)\n",
    "GPIO.setup(buzPin2, GPIO.OUT)\n",
    "GPIO.setup(ledPin1, GPIO.OUT)\n",
    "GPIO.setup(ledPin2, GPIO.OUT)\n",
    "GPIO.setup(buttonPin, GPIO.IN, pull_up_down = GPIO.PUD_DOWN)"
   ]
  },
  {
   "cell_type": "markdown",
   "metadata": {},
   "source": [
    "Establish the pigpio port"
   ]
  },
  {
   "cell_type": "code",
   "execution_count": 5,
   "metadata": {},
   "outputs": [],
   "source": [
    "pi = pigpio.pi(port = 8887)"
   ]
  },
  {
   "cell_type": "markdown",
   "metadata": {},
   "source": [
    "When we start things up, play the Iron Man Theme"
   ]
  },
  {
   "cell_type": "code",
   "execution_count": 6,
   "metadata": {},
   "outputs": [],
   "source": [
    "playSong('Can_You_Dig_It.npy', 'Can_You_Dig_It.npy', buzPin1, buzPin2, ledPin1, ledPin2)"
   ]
  },
  {
   "cell_type": "code",
   "execution_count": 98,
   "metadata": {},
   "outputs": [
    {
     "name": "stdout",
     "output_type": "stream",
     "text": [
      "[[  5.87330000e+02   3.00000000e-01]\n",
      " [  6.22250000e+02   2.00000000e-01]\n",
      " [  0.00000000e+00   1.00000000e-01]\n",
      " [  1.30820000e+02   3.00000000e-01]\n",
      " [  0.00000000e+00   1.00000000e-01]]\n",
      "[[  1.46830000e+02   5.00000000e-01]\n",
      " [  0.00000000e+00   1.00000000e-01]\n",
      " [  1.30820000e+02   3.00000000e-01]\n",
      " [  0.00000000e+00   1.00000000e-01]]\n"
     ]
    }
   ],
   "source": [
    "# Making the shot files\n",
    "# Making a numpy array for the song: Can You Dig It from Iron Man 3\n",
    "# I made a seperate python file I import here that has 3 dictionaries, with notes and their corresponding frequencies for 3 octaves\n",
    "import noteDict as n\n",
    "\n",
    "shotHigh = np.array([[ n.highOctave[\"D\"], 0.3 ]], dtype='float')\n",
    "shotHigh = np.append(shotHigh, [[ n.highOctave[\"Eb\"], 0.2 ]], axis=0)\n",
    "shotHigh = np.append(shotHigh, [[ 0, 0.1 ]], axis=0)\n",
    "shotHigh = np.append(shotHigh, [[ n.lowOctave[\"C\"], 0.3 ]], axis=0)\n",
    "shotHigh = np.append(shotHigh, [[ 0, 0.1 ]], axis=0)\n",
    "\n",
    "shotLow = np.array([[ n.lowOctave[\"D\"], 0.5]], dtype='float')\n",
    "shotLow = np.append(shotLow, [[ 0, 0.1 ]], axis=0)\n",
    "shotLow = np.append(shotLow, [[ n.lowOctave[\"C\"], 0.3 ]], axis=0)\n",
    "shotLow = np.append(shotLow, [[ 0, 0.1 ]], axis=0)\n",
    "\n",
    "print(shotHigh)\n",
    "print(shotLow)\n",
    "np.save('shotHigh.npy', shotHigh)\n",
    "np.save('shotLow.npy', shotLow)"
   ]
  },
  {
   "cell_type": "code",
   "execution_count": 102,
   "metadata": {},
   "outputs": [],
   "source": [
    "playSong('shotHigh.npy', 'shotLow.npy', buzPin1, buzPin2, ledPin1, ledPin2)"
   ]
  },
  {
   "cell_type": "code",
   "execution_count": 104,
   "metadata": {},
   "outputs": [],
   "source": [
    "import noteDict as n\n",
    "beatsPerMinute = 170\n",
    "secondsPerBeat = 1/beatsPerMinute * 60\n",
    "\n",
    "Can_You_Dig_It_Bass = np.array([[ n.lowOctave[\"A\"], secondsPerBeat * 0.5 ]], dtype='float')\n",
    "Can_You_Dig_It_Bass = np.append(Can_You_Dig_It_Bass, [[ n.lowOctave[\"A\"], secondsPerBeat * 0.5 ]], axis=0)\n",
    "Can_You_Dig_It_Bass = np.append(Can_You_Dig_It_Bass, [[ n.lowOctave[\"B\"], secondsPerBeat * 0.5 ]], axis=0) \n",
    "Can_You_Dig_It_Bass = np.append(Can_You_Dig_It_Bass, [[ n.lowOctave[\"B\"], secondsPerBeat * 0.5 ]], axis=0)\n",
    "Can_You_Dig_It_Bass = np.append(Can_You_Dig_It_Bass, [[ n.midOctave[\"D\"], secondsPerBeat * 0.5 ]], axis=0)\n",
    "Can_You_Dig_It_Bass = np.append(Can_You_Dig_It_Bass, [[ n.midOctave[\"D\"], secondsPerBeat * 0.5 ]], axis=0)\n",
    "Can_You_Dig_It_Bass = np.append(Can_You_Dig_It_Bass, [[ n.midOctave[\"D#\"], secondsPerBeat * 0.5 ]], axis=0)\n",
    "Can_You_Dig_It_Bass = np.append(Can_You_Dig_It_Bass, [[ n.midOctave[\"D#\"], secondsPerBeat * 0.5 ]], axis=0)\n",
    "Can_You_Dig_It_Bass = np.append(Can_You_Dig_It_Bass, [[ n.midOctave[\"E\"], secondsPerBeat * 1 ]], axis=0)\n",
    "Can_You_Dig_It_Bass = np.append(Can_You_Dig_It_Bass, [[ n.midOctave[\"E\"], secondsPerBeat * 0.5 ]], axis=0)\n",
    "Can_You_Dig_It_Bass = np.append(Can_You_Dig_It_Bass, [[ 0, secondsPerBeat * 0.5 ]], axis=0)\n",
    "\n",
    "\n",
    "np.save('Can_You_Dig_It_Bass.npy', Can_You_Dig_It_Bass)"
   ]
  },
  {
   "cell_type": "code",
   "execution_count": 105,
   "metadata": {},
   "outputs": [],
   "source": [
    "playSong('Can_You_Dig_It.npy', 'Can_You_Dig_It_Bass.npy', buzPin1, buzPin2, ledPin1, ledPin2)"
   ]
  },
  {
   "cell_type": "markdown",
   "metadata": {},
   "source": [
    "Need to be waiting for a button press. Once the button is pressed, fire a shot.\n",
    "The numpy file will contain the information for the sound of the shot, and the leds will shine in accordance to the frequencies being played"
   ]
  },
  {
   "cell_type": "code",
   "execution_count": null,
   "metadata": {},
   "outputs": [],
   "source": [
    "try:\n",
    "    while(True):\n",
    "        if GPIO.input(buttonPin) == 1:\n",
    "            playSong('fireShot.npy', buzPin, ledList)\n",
    "                \n",
    "except(KeyboardInterrupt, SystemExit):\n",
    "    print(\"Interupt!\")"
   ]
  },
  {
   "cell_type": "code",
   "execution_count": null,
   "metadata": {},
   "outputs": [],
   "source": []
  },
  {
   "cell_type": "markdown",
   "metadata": {},
   "source": [
    "Stop the pigpio port and GPIO"
   ]
  },
  {
   "cell_type": "code",
   "execution_count": null,
   "metadata": {},
   "outputs": [],
   "source": [
    "pi.stop()\n",
    "GPIO.cleanup()"
   ]
  }
 ],
 "metadata": {
  "kernelspec": {
   "display_name": "Python 3",
   "language": "python",
   "name": "python3"
  },
  "language_info": {
   "codemirror_mode": {
    "name": "ipython",
    "version": 3
   },
   "file_extension": ".py",
   "mimetype": "text/x-python",
   "name": "python",
   "nbconvert_exporter": "python",
   "pygments_lexer": "ipython3",
   "version": "3.5.3"
  }
 },
 "nbformat": 4,
 "nbformat_minor": 2
}
